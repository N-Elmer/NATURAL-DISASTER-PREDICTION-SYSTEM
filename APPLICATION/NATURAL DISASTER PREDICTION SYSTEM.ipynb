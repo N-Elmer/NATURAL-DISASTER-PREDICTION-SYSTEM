{
 "cells": [
  {
   "cell_type": "code",
   "execution_count": 1,
   "metadata": {},
   "outputs": [],
   "source": [
    "import pyodbc\n",
    "pyodbc.drivers()\n",
    "import numpy as np\n",
    "import pandas as pd\n",
    "import seaborn as sns\n",
    "import matplotlib.pyplot as plt\n",
    "from mpl_toolkits.mplot3d import Axes3D"
   ]
  },
  {
   "cell_type": "code",
   "execution_count": 2,
   "metadata": {},
   "outputs": [],
   "source": [
    "server = 'tcp:31.288.186.65,49170'\n",
    "database = 'monitor' # enter database name\n",
    "cnxn = pyodbc.connect('DRIVER={ODBC Driver 17 for SQL Server};SERVER=DELTA\\MSSQLSERVER01;DATABASE=monitor;Trusted_Connection=yes;')\n",
    "cursor = cnxn.cursor()"
   ]
  },
  {
   "cell_type": "code",
   "execution_count": 3,
   "metadata": {},
   "outputs": [],
   "source": [
    "# select command\n",
    "query = ''' SELECT * FROM environmentalData''';\n",
    "data = pd.read_sql(query, cnxn)\n",
    "# sensor1 = lightIntensity\n",
    "# sensor2 = soilHumidity"
   ]
  },
  {
   "cell_type": "code",
   "execution_count": 4,
   "metadata": {},
   "outputs": [
    {
     "data": {
      "text/html": [
       "<div>\n",
       "<style scoped>\n",
       "    .dataframe tbody tr th:only-of-type {\n",
       "        vertical-align: middle;\n",
       "    }\n",
       "\n",
       "    .dataframe tbody tr th {\n",
       "        vertical-align: top;\n",
       "    }\n",
       "\n",
       "    .dataframe thead th {\n",
       "        text-align: right;\n",
       "    }\n",
       "</style>\n",
       "<table border=\"1\" class=\"dataframe\">\n",
       "  <thead>\n",
       "    <tr style=\"text-align: right;\">\n",
       "      <th></th>\n",
       "      <th>id</th>\n",
       "      <th>time</th>\n",
       "      <th>sensor1</th>\n",
       "      <th>sensor2</th>\n",
       "      <th>sensor3</th>\n",
       "      <th>sensor4</th>\n",
       "    </tr>\n",
       "  </thead>\n",
       "  <tbody>\n",
       "    <tr>\n",
       "      <th>0</th>\n",
       "      <td>167</td>\n",
       "      <td>Wed Jun  1 15:30:21 2022</td>\n",
       "      <td>362.0</td>\n",
       "      <td>176.0</td>\n",
       "      <td>0.0</td>\n",
       "      <td>0.0</td>\n",
       "    </tr>\n",
       "    <tr>\n",
       "      <th>1</th>\n",
       "      <td>168</td>\n",
       "      <td>Wed Jun  1 15:30:25 2022</td>\n",
       "      <td>213.0</td>\n",
       "      <td>145.0</td>\n",
       "      <td>0.0</td>\n",
       "      <td>0.0</td>\n",
       "    </tr>\n",
       "    <tr>\n",
       "      <th>2</th>\n",
       "      <td>169</td>\n",
       "      <td>Wed Jun  1 15:30:30 2022</td>\n",
       "      <td>214.0</td>\n",
       "      <td>148.0</td>\n",
       "      <td>0.0</td>\n",
       "      <td>0.0</td>\n",
       "    </tr>\n",
       "    <tr>\n",
       "      <th>3</th>\n",
       "      <td>170</td>\n",
       "      <td>Wed Jun  1 15:30:35 2022</td>\n",
       "      <td>196.0</td>\n",
       "      <td>120.0</td>\n",
       "      <td>0.0</td>\n",
       "      <td>0.0</td>\n",
       "    </tr>\n",
       "    <tr>\n",
       "      <th>4</th>\n",
       "      <td>171</td>\n",
       "      <td>Wed Jun  1 15:30:40 2022</td>\n",
       "      <td>196.0</td>\n",
       "      <td>118.0</td>\n",
       "      <td>0.0</td>\n",
       "      <td>0.0</td>\n",
       "    </tr>\n",
       "  </tbody>\n",
       "</table>\n",
       "</div>"
      ],
      "text/plain": [
       "    id                      time  sensor1  sensor2  sensor3  sensor4\n",
       "0  167  Wed Jun  1 15:30:21 2022    362.0    176.0      0.0      0.0\n",
       "1  168  Wed Jun  1 15:30:25 2022    213.0    145.0      0.0      0.0\n",
       "2  169  Wed Jun  1 15:30:30 2022    214.0    148.0      0.0      0.0\n",
       "3  170  Wed Jun  1 15:30:35 2022    196.0    120.0      0.0      0.0\n",
       "4  171  Wed Jun  1 15:30:40 2022    196.0    118.0      0.0      0.0"
      ]
     },
     "execution_count": 4,
     "metadata": {},
     "output_type": "execute_result"
    }
   ],
   "source": [
    "data.head()"
   ]
  },
  {
   "cell_type": "code",
   "execution_count": 5,
   "metadata": {},
   "outputs": [
    {
     "data": {
      "text/html": [
       "<div>\n",
       "<style scoped>\n",
       "    .dataframe tbody tr th:only-of-type {\n",
       "        vertical-align: middle;\n",
       "    }\n",
       "\n",
       "    .dataframe tbody tr th {\n",
       "        vertical-align: top;\n",
       "    }\n",
       "\n",
       "    .dataframe thead th {\n",
       "        text-align: right;\n",
       "    }\n",
       "</style>\n",
       "<table border=\"1\" class=\"dataframe\">\n",
       "  <thead>\n",
       "    <tr style=\"text-align: right;\">\n",
       "      <th></th>\n",
       "      <th>id</th>\n",
       "      <th>time</th>\n",
       "      <th>sensor1</th>\n",
       "      <th>sensor2</th>\n",
       "      <th>sensor3</th>\n",
       "      <th>sensor4</th>\n",
       "    </tr>\n",
       "  </thead>\n",
       "  <tbody>\n",
       "    <tr>\n",
       "      <th>61</th>\n",
       "      <td>229</td>\n",
       "      <td>Wed Jun  1 15:35:35 2022</td>\n",
       "      <td>189.0</td>\n",
       "      <td>100.0</td>\n",
       "      <td>0.0</td>\n",
       "      <td>0.0</td>\n",
       "    </tr>\n",
       "    <tr>\n",
       "      <th>62</th>\n",
       "      <td>230</td>\n",
       "      <td>Wed Jun  1 15:35:40 2022</td>\n",
       "      <td>195.0</td>\n",
       "      <td>110.0</td>\n",
       "      <td>0.0</td>\n",
       "      <td>0.0</td>\n",
       "    </tr>\n",
       "    <tr>\n",
       "      <th>63</th>\n",
       "      <td>231</td>\n",
       "      <td>Wed Jun  1 15:35:45 2022</td>\n",
       "      <td>185.0</td>\n",
       "      <td>92.0</td>\n",
       "      <td>0.0</td>\n",
       "      <td>0.0</td>\n",
       "    </tr>\n",
       "    <tr>\n",
       "      <th>64</th>\n",
       "      <td>232</td>\n",
       "      <td>Wed Jun  1 15:35:50 2022</td>\n",
       "      <td>190.0</td>\n",
       "      <td>100.0</td>\n",
       "      <td>0.0</td>\n",
       "      <td>0.0</td>\n",
       "    </tr>\n",
       "    <tr>\n",
       "      <th>65</th>\n",
       "      <td>233</td>\n",
       "      <td>Wed Jun  1 15:35:55 2022</td>\n",
       "      <td>188.0</td>\n",
       "      <td>100.0</td>\n",
       "      <td>0.0</td>\n",
       "      <td>0.0</td>\n",
       "    </tr>\n",
       "  </tbody>\n",
       "</table>\n",
       "</div>"
      ],
      "text/plain": [
       "     id                      time  sensor1  sensor2  sensor3  sensor4\n",
       "61  229  Wed Jun  1 15:35:35 2022    189.0    100.0      0.0      0.0\n",
       "62  230  Wed Jun  1 15:35:40 2022    195.0    110.0      0.0      0.0\n",
       "63  231  Wed Jun  1 15:35:45 2022    185.0     92.0      0.0      0.0\n",
       "64  232  Wed Jun  1 15:35:50 2022    190.0    100.0      0.0      0.0\n",
       "65  233  Wed Jun  1 15:35:55 2022    188.0    100.0      0.0      0.0"
      ]
     },
     "execution_count": 5,
     "metadata": {},
     "output_type": "execute_result"
    }
   ],
   "source": [
    "data.tail()"
   ]
  },
  {
   "cell_type": "code",
   "execution_count": 6,
   "metadata": {},
   "outputs": [
    {
     "name": "stdout",
     "output_type": "stream",
     "text": [
      "<class 'pandas.core.frame.DataFrame'>\n",
      "RangeIndex: 66 entries, 0 to 65\n",
      "Data columns (total 6 columns):\n",
      " #   Column   Non-Null Count  Dtype  \n",
      "---  ------   --------------  -----  \n",
      " 0   id       66 non-null     int64  \n",
      " 1   time     66 non-null     object \n",
      " 2   sensor1  66 non-null     float64\n",
      " 3   sensor2  66 non-null     float64\n",
      " 4   sensor3  66 non-null     float64\n",
      " 5   sensor4  66 non-null     float64\n",
      "dtypes: float64(4), int64(1), object(1)\n",
      "memory usage: 3.2+ KB\n"
     ]
    }
   ],
   "source": [
    "data.info()"
   ]
  },
  {
   "cell_type": "code",
   "execution_count": 7,
   "metadata": {},
   "outputs": [
    {
     "data": {
      "text/plain": [
       "id           int64\n",
       "time        object\n",
       "sensor1    float64\n",
       "sensor2    float64\n",
       "sensor3    float64\n",
       "sensor4    float64\n",
       "dtype: object"
      ]
     },
     "execution_count": 7,
     "metadata": {},
     "output_type": "execute_result"
    }
   ],
   "source": [
    "data.dtypes"
   ]
  },
  {
   "cell_type": "code",
   "execution_count": 8,
   "metadata": {},
   "outputs": [
    {
     "data": {
      "text/plain": [
       "(66, 6)"
      ]
     },
     "execution_count": 8,
     "metadata": {},
     "output_type": "execute_result"
    }
   ],
   "source": [
    "data.shape"
   ]
  },
  {
   "cell_type": "code",
   "execution_count": 9,
   "metadata": {},
   "outputs": [
    {
     "data": {
      "text/plain": [
       "<bound method DataFrame.count of      id                      time  sensor1  sensor2  sensor3  sensor4\n",
       "0   167  Wed Jun  1 15:30:21 2022    362.0    176.0      0.0      0.0\n",
       "1   168  Wed Jun  1 15:30:25 2022    213.0    145.0      0.0      0.0\n",
       "2   169  Wed Jun  1 15:30:30 2022    214.0    148.0      0.0      0.0\n",
       "3   170  Wed Jun  1 15:30:35 2022    196.0    120.0      0.0      0.0\n",
       "4   171  Wed Jun  1 15:30:40 2022    196.0    118.0      0.0      0.0\n",
       "..  ...                       ...      ...      ...      ...      ...\n",
       "61  229  Wed Jun  1 15:35:35 2022    189.0    100.0      0.0      0.0\n",
       "62  230  Wed Jun  1 15:35:40 2022    195.0    110.0      0.0      0.0\n",
       "63  231  Wed Jun  1 15:35:45 2022    185.0     92.0      0.0      0.0\n",
       "64  232  Wed Jun  1 15:35:50 2022    190.0    100.0      0.0      0.0\n",
       "65  233  Wed Jun  1 15:35:55 2022    188.0    100.0      0.0      0.0\n",
       "\n",
       "[66 rows x 6 columns]>"
      ]
     },
     "execution_count": 9,
     "metadata": {},
     "output_type": "execute_result"
    }
   ],
   "source": [
    "data.count"
   ]
  },
  {
   "cell_type": "code",
   "execution_count": 10,
   "metadata": {},
   "outputs": [
    {
     "data": {
      "text/html": [
       "<div>\n",
       "<style scoped>\n",
       "    .dataframe tbody tr th:only-of-type {\n",
       "        vertical-align: middle;\n",
       "    }\n",
       "\n",
       "    .dataframe tbody tr th {\n",
       "        vertical-align: top;\n",
       "    }\n",
       "\n",
       "    .dataframe thead th {\n",
       "        text-align: right;\n",
       "    }\n",
       "</style>\n",
       "<table border=\"1\" class=\"dataframe\">\n",
       "  <thead>\n",
       "    <tr style=\"text-align: right;\">\n",
       "      <th></th>\n",
       "      <th>id</th>\n",
       "      <th>sensor1</th>\n",
       "      <th>sensor2</th>\n",
       "      <th>sensor3</th>\n",
       "      <th>sensor4</th>\n",
       "    </tr>\n",
       "  </thead>\n",
       "  <tbody>\n",
       "    <tr>\n",
       "      <th>count</th>\n",
       "      <td>66.000000</td>\n",
       "      <td>66.000000</td>\n",
       "      <td>66.000000</td>\n",
       "      <td>66.0</td>\n",
       "      <td>66.0</td>\n",
       "    </tr>\n",
       "    <tr>\n",
       "      <th>mean</th>\n",
       "      <td>199.636364</td>\n",
       "      <td>212.787879</td>\n",
       "      <td>138.712121</td>\n",
       "      <td>0.0</td>\n",
       "      <td>0.0</td>\n",
       "    </tr>\n",
       "    <tr>\n",
       "      <th>std</th>\n",
       "      <td>19.403914</td>\n",
       "      <td>23.918139</td>\n",
       "      <td>27.366889</td>\n",
       "      <td>0.0</td>\n",
       "      <td>0.0</td>\n",
       "    </tr>\n",
       "    <tr>\n",
       "      <th>min</th>\n",
       "      <td>167.000000</td>\n",
       "      <td>177.000000</td>\n",
       "      <td>66.000000</td>\n",
       "      <td>0.0</td>\n",
       "      <td>0.0</td>\n",
       "    </tr>\n",
       "    <tr>\n",
       "      <th>25%</th>\n",
       "      <td>183.250000</td>\n",
       "      <td>196.000000</td>\n",
       "      <td>111.000000</td>\n",
       "      <td>0.0</td>\n",
       "      <td>0.0</td>\n",
       "    </tr>\n",
       "    <tr>\n",
       "      <th>50%</th>\n",
       "      <td>199.500000</td>\n",
       "      <td>220.500000</td>\n",
       "      <td>155.000000</td>\n",
       "      <td>0.0</td>\n",
       "      <td>0.0</td>\n",
       "    </tr>\n",
       "    <tr>\n",
       "      <th>75%</th>\n",
       "      <td>215.750000</td>\n",
       "      <td>222.000000</td>\n",
       "      <td>159.000000</td>\n",
       "      <td>0.0</td>\n",
       "      <td>0.0</td>\n",
       "    </tr>\n",
       "    <tr>\n",
       "      <th>max</th>\n",
       "      <td>233.000000</td>\n",
       "      <td>362.000000</td>\n",
       "      <td>176.000000</td>\n",
       "      <td>0.0</td>\n",
       "      <td>0.0</td>\n",
       "    </tr>\n",
       "  </tbody>\n",
       "</table>\n",
       "</div>"
      ],
      "text/plain": [
       "               id     sensor1     sensor2  sensor3  sensor4\n",
       "count   66.000000   66.000000   66.000000     66.0     66.0\n",
       "mean   199.636364  212.787879  138.712121      0.0      0.0\n",
       "std     19.403914   23.918139   27.366889      0.0      0.0\n",
       "min    167.000000  177.000000   66.000000      0.0      0.0\n",
       "25%    183.250000  196.000000  111.000000      0.0      0.0\n",
       "50%    199.500000  220.500000  155.000000      0.0      0.0\n",
       "75%    215.750000  222.000000  159.000000      0.0      0.0\n",
       "max    233.000000  362.000000  176.000000      0.0      0.0"
      ]
     },
     "execution_count": 10,
     "metadata": {},
     "output_type": "execute_result"
    }
   ],
   "source": [
    "data.describe()"
   ]
  },
  {
   "cell_type": "code",
   "execution_count": 11,
   "metadata": {},
   "outputs": [
    {
     "name": "stdout",
     "output_type": "stream",
     "text": [
      "id         0\n",
      "time       0\n",
      "sensor1    0\n",
      "sensor2    0\n",
      "sensor3    0\n",
      "sensor4    0\n",
      "dtype: int64\n"
     ]
    }
   ],
   "source": [
    "print(data.isnull().sum())"
   ]
  },
  {
   "cell_type": "code",
   "execution_count": 12,
   "metadata": {},
   "outputs": [
    {
     "name": "stdout",
     "output_type": "stream",
     "text": [
      "id         32.5\n",
      "sensor1    26.0\n",
      "sensor2    48.0\n",
      "sensor3     0.0\n",
      "sensor4     0.0\n",
      "dtype: float64\n"
     ]
    }
   ],
   "source": [
    "Q1 = data.quantile(0.25)\n",
    "Q3 = data.quantile(0.75)\n",
    "IQR = Q3-Q1\n",
    "print(IQR)"
   ]
  },
  {
   "cell_type": "code",
   "execution_count": 13,
   "metadata": {},
   "outputs": [
    {
     "data": {
      "text/plain": [
       "<AxesSubplot:xlabel='sensor1'>"
      ]
     },
     "execution_count": 13,
     "metadata": {},
     "output_type": "execute_result"
    },
    {
     "data": {
      "image/png": "[encoded data removed]",
      "text/plain": [
       "<Figure size 1440x720 with 1 Axes>"
      ]
     },
     "metadata": {},
     "output_type": "display_data"
    }
   ],
   "source": [
    "sns.set(color_codes=True)\n",
    "plt.figure(figsize=(20,10))\n",
    "sns.boxplot(x=data['sensor1'])"
   ]
  },
  {
   "cell_type": "code",
   "execution_count": 14,
   "metadata": {},
   "outputs": [
    {
     "data": {
      "text/plain": [
       "<AxesSubplot:xlabel='sensor2'>"
      ]
     },
     "execution_count": 14,
     "metadata": {},
     "output_type": "execute_result"
    },
    {
     "data": {
      "image/png": "[encoded data removed]",
      "text/plain": [
       "<Figure size 1440x720 with 1 Axes>"
      ]
     },
     "metadata": {},
     "output_type": "display_data"
    }
   ],
   "source": [
    "sns.set(color_codes=True)\n",
    "plt.figure(figsize=(20,10))\n",
    "sns.boxplot(x=data['sensor2'])"
   ]
  },
  {
   "cell_type": "code",
   "execution_count": 15,
   "metadata": {},
   "outputs": [
    {
     "data": {
      "text/plain": [
       "<BarContainer object of 66 artists>"
      ]
     },
     "execution_count": 15,
     "metadata": {},
     "output_type": "execute_result"
    },
    {
     "data": {
      "image/png": "[encoded data removed]",
      "text/plain": [
       "<Figure size 1440x720 with 1 Axes>"
      ]
     },
     "metadata": {},
     "output_type": "display_data"
    }
   ],
   "source": [
    "plt.figure(figsize=(20,10))\n",
    "plt.bar(x=data['time'], height=data['sensor1'])"
   ]
  },
  {
   "cell_type": "code",
   "execution_count": 16,
   "metadata": {
    "scrolled": false
   },
   "outputs": [
    {
     "data": {
      "text/plain": [
       "<BarContainer object of 66 artists>"
      ]
     },
     "execution_count": 16,
     "metadata": {},
     "output_type": "execute_result"
    },
    {
     "data": {
      "image/png": "[encoded data removed]",
      "text/plain": [
       "<Figure size 1440x720 with 1 Axes>"
      ]
     },
     "metadata": {},
     "output_type": "display_data"
    }
   ],
   "source": [
    "plt.figure(figsize=(20,10))\n",
    "plt.bar(x=data['time'], height=data['sensor2'])"
   ]
  },
  {
   "cell_type": "code",
   "execution_count": 17,
   "metadata": {
    "scrolled": false
   },
   "outputs": [
    {
     "data": {
      "text/html": [
       "<div>\n",
       "<style scoped>\n",
       "    .dataframe tbody tr th:only-of-type {\n",
       "        vertical-align: middle;\n",
       "    }\n",
       "\n",
       "    .dataframe tbody tr th {\n",
       "        vertical-align: top;\n",
       "    }\n",
       "\n",
       "    .dataframe thead th {\n",
       "        text-align: right;\n",
       "    }\n",
       "</style>\n",
       "<table border=\"1\" class=\"dataframe\">\n",
       "  <thead>\n",
       "    <tr style=\"text-align: right;\">\n",
       "      <th></th>\n",
       "      <th>id</th>\n",
       "      <th>sensor1</th>\n",
       "      <th>sensor2</th>\n",
       "      <th>sensor3</th>\n",
       "      <th>sensor4</th>\n",
       "    </tr>\n",
       "  </thead>\n",
       "  <tbody>\n",
       "    <tr>\n",
       "      <th>id</th>\n",
       "      <td>1.00000</td>\n",
       "      <td>-0.214510</td>\n",
       "      <td>-0.156560</td>\n",
       "      <td>NaN</td>\n",
       "      <td>NaN</td>\n",
       "    </tr>\n",
       "    <tr>\n",
       "      <th>sensor1</th>\n",
       "      <td>-0.21451</td>\n",
       "      <td>1.000000</td>\n",
       "      <td>0.745721</td>\n",
       "      <td>NaN</td>\n",
       "      <td>NaN</td>\n",
       "    </tr>\n",
       "    <tr>\n",
       "      <th>sensor2</th>\n",
       "      <td>-0.15656</td>\n",
       "      <td>0.745721</td>\n",
       "      <td>1.000000</td>\n",
       "      <td>NaN</td>\n",
       "      <td>NaN</td>\n",
       "    </tr>\n",
       "    <tr>\n",
       "      <th>sensor3</th>\n",
       "      <td>NaN</td>\n",
       "      <td>NaN</td>\n",
       "      <td>NaN</td>\n",
       "      <td>NaN</td>\n",
       "      <td>NaN</td>\n",
       "    </tr>\n",
       "    <tr>\n",
       "      <th>sensor4</th>\n",
       "      <td>NaN</td>\n",
       "      <td>NaN</td>\n",
       "      <td>NaN</td>\n",
       "      <td>NaN</td>\n",
       "      <td>NaN</td>\n",
       "    </tr>\n",
       "  </tbody>\n",
       "</table>\n",
       "</div>"
      ],
      "text/plain": [
       "              id   sensor1   sensor2  sensor3  sensor4\n",
       "id       1.00000 -0.214510 -0.156560      NaN      NaN\n",
       "sensor1 -0.21451  1.000000  0.745721      NaN      NaN\n",
       "sensor2 -0.15656  0.745721  1.000000      NaN      NaN\n",
       "sensor3      NaN       NaN       NaN      NaN      NaN\n",
       "sensor4      NaN       NaN       NaN      NaN      NaN"
      ]
     },
     "execution_count": 17,
     "metadata": {},
     "output_type": "execute_result"
    },
    {
     "data": {
      "image/png": "[encoded data removed]",
      "text/plain": [
       "<Figure size 1440x720 with 2 Axes>"
      ]
     },
     "metadata": {},
     "output_type": "display_data"
    }
   ],
   "source": [
    "plt.figure(figsize=(20,10))\n",
    "heatmapChart=data.corr()\n",
    "sns.heatmap(heatmapChart, cmap=\"BrBG\", annot=True)\n",
    "heatmapChart"
   ]
  },
  {
   "cell_type": "code",
   "execution_count": 18,
   "metadata": {
    "scrolled": false
   },
   "outputs": [
    {
     "data": {
      "image/png": "[encoded data removed]",
      "text/plain": [
       "<Figure size 1440x720 with 1 Axes>"
      ]
     },
     "metadata": {},
     "output_type": "display_data"
    }
   ],
   "source": [
    "fig, ax = plt.subplots(figsize=(20,10))\n",
    "ax.scatter(data['sensor1'], data['sensor2'])\n",
    "ax.set_xlabel('sensor1')\n",
    "ax.set_ylabel('sensor2')\n",
    "plt.show()"
   ]
  },
  {
   "cell_type": "code",
   "execution_count": 19,
   "metadata": {},
   "outputs": [
    {
     "data": {
      "image/png": "[encoded data removed]",
      "text/plain": [
       "<Figure size 1440x720 with 1 Axes>"
      ]
     },
     "metadata": {},
     "output_type": "display_data"
    }
   ],
   "source": [
    "fig, ax = plt.subplots(figsize=(20,10))\n",
    "plt.plot(data[\"sensor1\"], data[\"sensor2\"])\n",
    "ax.set_xlabel('sensor1')\n",
    "ax.set_ylabel('sensor2')\n",
    "plt.show()"
   ]
  },
  {
   "cell_type": "code",
   "execution_count": 20,
   "metadata": {},
   "outputs": [
    {
     "data": {
      "text/html": [
       "<div>\n",
       "<style scoped>\n",
       "    .dataframe tbody tr th:only-of-type {\n",
       "        vertical-align: middle;\n",
       "    }\n",
       "\n",
       "    .dataframe tbody tr th {\n",
       "        vertical-align: top;\n",
       "    }\n",
       "\n",
       "    .dataframe thead th {\n",
       "        text-align: right;\n",
       "    }\n",
       "</style>\n",
       "<table border=\"1\" class=\"dataframe\">\n",
       "  <thead>\n",
       "    <tr style=\"text-align: right;\">\n",
       "      <th></th>\n",
       "      <th>time</th>\n",
       "      <th>sensor1</th>\n",
       "      <th>sensor2</th>\n",
       "    </tr>\n",
       "  </thead>\n",
       "  <tbody>\n",
       "    <tr>\n",
       "      <th>0</th>\n",
       "      <td>Wed Jun  1 15:30:21 2022</td>\n",
       "      <td>362.0</td>\n",
       "      <td>176.0</td>\n",
       "    </tr>\n",
       "    <tr>\n",
       "      <th>1</th>\n",
       "      <td>Wed Jun  1 15:30:25 2022</td>\n",
       "      <td>213.0</td>\n",
       "      <td>145.0</td>\n",
       "    </tr>\n",
       "    <tr>\n",
       "      <th>2</th>\n",
       "      <td>Wed Jun  1 15:30:30 2022</td>\n",
       "      <td>214.0</td>\n",
       "      <td>148.0</td>\n",
       "    </tr>\n",
       "    <tr>\n",
       "      <th>3</th>\n",
       "      <td>Wed Jun  1 15:30:35 2022</td>\n",
       "      <td>196.0</td>\n",
       "      <td>120.0</td>\n",
       "    </tr>\n",
       "    <tr>\n",
       "      <th>4</th>\n",
       "      <td>Wed Jun  1 15:30:40 2022</td>\n",
       "      <td>196.0</td>\n",
       "      <td>118.0</td>\n",
       "    </tr>\n",
       "    <tr>\n",
       "      <th>...</th>\n",
       "      <td>...</td>\n",
       "      <td>...</td>\n",
       "      <td>...</td>\n",
       "    </tr>\n",
       "    <tr>\n",
       "      <th>61</th>\n",
       "      <td>Wed Jun  1 15:35:35 2022</td>\n",
       "      <td>189.0</td>\n",
       "      <td>100.0</td>\n",
       "    </tr>\n",
       "    <tr>\n",
       "      <th>62</th>\n",
       "      <td>Wed Jun  1 15:35:40 2022</td>\n",
       "      <td>195.0</td>\n",
       "      <td>110.0</td>\n",
       "    </tr>\n",
       "    <tr>\n",
       "      <th>63</th>\n",
       "      <td>Wed Jun  1 15:35:45 2022</td>\n",
       "      <td>185.0</td>\n",
       "      <td>92.0</td>\n",
       "    </tr>\n",
       "    <tr>\n",
       "      <th>64</th>\n",
       "      <td>Wed Jun  1 15:35:50 2022</td>\n",
       "      <td>190.0</td>\n",
       "      <td>100.0</td>\n",
       "    </tr>\n",
       "    <tr>\n",
       "      <th>65</th>\n",
       "      <td>Wed Jun  1 15:35:55 2022</td>\n",
       "      <td>188.0</td>\n",
       "      <td>100.0</td>\n",
       "    </tr>\n",
       "  </tbody>\n",
       "</table>\n",
       "<p>66 rows × 3 columns</p>\n",
       "</div>"
      ],
      "text/plain": [
       "                        time  sensor1  sensor2\n",
       "0   Wed Jun  1 15:30:21 2022    362.0    176.0\n",
       "1   Wed Jun  1 15:30:25 2022    213.0    145.0\n",
       "2   Wed Jun  1 15:30:30 2022    214.0    148.0\n",
       "3   Wed Jun  1 15:30:35 2022    196.0    120.0\n",
       "4   Wed Jun  1 15:30:40 2022    196.0    118.0\n",
       "..                       ...      ...      ...\n",
       "61  Wed Jun  1 15:35:35 2022    189.0    100.0\n",
       "62  Wed Jun  1 15:35:40 2022    195.0    110.0\n",
       "63  Wed Jun  1 15:35:45 2022    185.0     92.0\n",
       "64  Wed Jun  1 15:35:50 2022    190.0    100.0\n",
       "65  Wed Jun  1 15:35:55 2022    188.0    100.0\n",
       "\n",
       "[66 rows x 3 columns]"
      ]
     },
     "execution_count": 20,
     "metadata": {},
     "output_type": "execute_result"
    }
   ],
   "source": [
    "data.drop([\"id\",\"sensor3\",\"sensor4\"], axis=\"columns\", inplace=True)\n",
    "data"
   ]
  },
  {
   "cell_type": "code",
   "execution_count": 21,
   "metadata": {
    "scrolled": false
   },
   "outputs": [
    {
     "data": {
      "text/html": [
       "<div>\n",
       "<style scoped>\n",
       "    .dataframe tbody tr th:only-of-type {\n",
       "        vertical-align: middle;\n",
       "    }\n",
       "\n",
       "    .dataframe tbody tr th {\n",
       "        vertical-align: top;\n",
       "    }\n",
       "\n",
       "    .dataframe thead th {\n",
       "        text-align: right;\n",
       "    }\n",
       "</style>\n",
       "<table border=\"1\" class=\"dataframe\">\n",
       "  <thead>\n",
       "    <tr style=\"text-align: right;\">\n",
       "      <th></th>\n",
       "      <th>time</th>\n",
       "      <th>sensor1</th>\n",
       "      <th>sensor2</th>\n",
       "      <th>currentTendency</th>\n",
       "    </tr>\n",
       "  </thead>\n",
       "  <tbody>\n",
       "    <tr>\n",
       "      <th>0</th>\n",
       "      <td>Wed Jun  1 15:30:21 2022</td>\n",
       "      <td>181.0</td>\n",
       "      <td>88.0</td>\n",
       "      <td>DISASTER</td>\n",
       "    </tr>\n",
       "    <tr>\n",
       "      <th>1</th>\n",
       "      <td>Wed Jun  1 15:30:25 2022</td>\n",
       "      <td>106.5</td>\n",
       "      <td>72.5</td>\n",
       "      <td>DISASTER</td>\n",
       "    </tr>\n",
       "    <tr>\n",
       "      <th>2</th>\n",
       "      <td>Wed Jun  1 15:30:30 2022</td>\n",
       "      <td>107.0</td>\n",
       "      <td>74.0</td>\n",
       "      <td>DISASTER</td>\n",
       "    </tr>\n",
       "    <tr>\n",
       "      <th>3</th>\n",
       "      <td>Wed Jun  1 15:30:35 2022</td>\n",
       "      <td>98.0</td>\n",
       "      <td>60.0</td>\n",
       "      <td>NO DISASTER</td>\n",
       "    </tr>\n",
       "    <tr>\n",
       "      <th>4</th>\n",
       "      <td>Wed Jun  1 15:30:40 2022</td>\n",
       "      <td>98.0</td>\n",
       "      <td>59.0</td>\n",
       "      <td>NO DISASTER</td>\n",
       "    </tr>\n",
       "  </tbody>\n",
       "</table>\n",
       "</div>"
      ],
      "text/plain": [
       "                       time  sensor1  sensor2 currentTendency\n",
       "0  Wed Jun  1 15:30:21 2022    181.0     88.0        DISASTER\n",
       "1  Wed Jun  1 15:30:25 2022    106.5     72.5        DISASTER\n",
       "2  Wed Jun  1 15:30:30 2022    107.0     74.0        DISASTER\n",
       "3  Wed Jun  1 15:30:35 2022     98.0     60.0     NO DISASTER\n",
       "4  Wed Jun  1 15:30:40 2022     98.0     59.0     NO DISASTER"
      ]
     },
     "execution_count": 21,
     "metadata": {},
     "output_type": "execute_result"
    }
   ],
   "source": [
    "data[\"sensor1\"] = ((data[\"sensor1\"])/2)\n",
    "data[\"sensor2\"] = ((data[\"sensor2\"])/2)\n",
    "conditions = [data['sensor1'] > 100, \n",
    "              data['sensor2'] > 50]\n",
    "choices = ['DISASTER', 'NO DISASTER']\n",
    "data['currentTendency'] = np.select(conditions, choices, default='UNDEFINED')\n",
    "data.head()"
   ]
  },
  {
   "cell_type": "code",
   "execution_count": 22,
   "metadata": {},
   "outputs": [],
   "source": [
    "x = data[[\"sensor1\",\"sensor2\"]]\n",
    "y = data[\"currentTendency\"]"
   ]
  },
  {
   "cell_type": "code",
   "execution_count": 23,
   "metadata": {},
   "outputs": [
    {
     "name": "stdout",
     "output_type": "stream",
     "text": [
      "    sensor1  sensor2\n",
      "0     181.0     88.0\n",
      "1     106.5     72.5\n",
      "2     107.0     74.0\n",
      "3      98.0     60.0\n",
      "4      98.0     59.0\n",
      "..      ...      ...\n",
      "61     94.5     50.0\n",
      "62     97.5     55.0\n",
      "63     92.5     46.0\n",
      "64     95.0     50.0\n",
      "65     94.0     50.0\n",
      "\n",
      "[66 rows x 2 columns]\n"
     ]
    }
   ],
   "source": [
    "print(x)"
   ]
  },
  {
   "cell_type": "code",
   "execution_count": 24,
   "metadata": {},
   "outputs": [
    {
     "name": "stdout",
     "output_type": "stream",
     "text": [
      "0        DISASTER\n",
      "1        DISASTER\n",
      "2        DISASTER\n",
      "3     NO DISASTER\n",
      "4     NO DISASTER\n",
      "         ...     \n",
      "61      UNDEFINED\n",
      "62    NO DISASTER\n",
      "63      UNDEFINED\n",
      "64      UNDEFINED\n",
      "65      UNDEFINED\n",
      "Name: currentTendency, Length: 66, dtype: object\n"
     ]
    }
   ],
   "source": [
    "print(y)"
   ]
  },
  {
   "cell_type": "code",
   "execution_count": 25,
   "metadata": {},
   "outputs": [],
   "source": [
    "x = np.array(x)\n",
    "y = np.array(y)"
   ]
  },
  {
   "cell_type": "code",
   "execution_count": 26,
   "metadata": {},
   "outputs": [],
   "source": [
    "#TRAIN TEST SPLIT\n",
    "from sklearn.model_selection import train_test_split\n",
    "x_train, x_test, y_train, y_test = train_test_split(x,y, test_size=0.2, random_state=None)"
   ]
  },
  {
   "cell_type": "code",
   "execution_count": 27,
   "metadata": {},
   "outputs": [],
   "source": [
    "from sklearn.linear_model import LinearRegression\n",
    "from sklearn.ensemble import RandomForestRegressor\n",
    "from sklearn.linear_model import LogisticRegression\n",
    "from sklearn.neighbors import KNeighborsClassifier\n",
    "from sklearn.tree import DecisionTreeClassifier\n",
    "from sklearn.svm import SVC"
   ]
  },
  {
   "cell_type": "code",
   "execution_count": 28,
   "metadata": {},
   "outputs": [],
   "source": [
    "LIR = LinearRegression()\n",
    "LOR = LogisticRegression()\n",
    "RFR = RandomForestRegressor()\n",
    "KNN = KNeighborsClassifier(n_neighbors=3)\n",
    "DTC = DecisionTreeClassifier()\n",
    "SVM = SVC()"
   ]
  },
  {
   "cell_type": "code",
   "execution_count": 29,
   "metadata": {},
   "outputs": [],
   "source": [
    "# NOW WE WILL TRAIN OUR MODELS\n",
    "LOtrain = LOR.fit(x_train, y_train)\n",
    "Ktrain = KNN.fit(x_train, y_train)\n",
    "Dtrain = DTC.fit(x_train, y_train)\n",
    "Strain = SVM.fit(x_train, y_train)"
   ]
  },
  {
   "cell_type": "code",
   "execution_count": 30,
   "metadata": {},
   "outputs": [
    {
     "name": "stdout",
     "output_type": "stream",
     "text": [
      "The Train Accuracy Percentage Is As Follows: \n",
      " 100.0 \n",
      "\n"
     ]
    }
   ],
   "source": [
    "LOaccuracy = LOR.score(x_train, y_train)\n",
    "print(\"The Train Accuracy Percentage Is As Follows: \\n\",((LOaccuracy)*100),\"\\n\")"
   ]
  },
  {
   "cell_type": "code",
   "execution_count": 31,
   "metadata": {},
   "outputs": [
    {
     "name": "stdout",
     "output_type": "stream",
     "text": [
      "The Train Accuracy Percentage Is As Follows: \n",
      " 100.0 \n",
      "\n"
     ]
    }
   ],
   "source": [
    "Kaccuracy = KNN.score(x_train, y_train)\n",
    "print(\"The Train Accuracy Percentage Is As Follows: \\n\",((Kaccuracy)*100),\"\\n\")"
   ]
  },
  {
   "cell_type": "code",
   "execution_count": 32,
   "metadata": {},
   "outputs": [
    {
     "name": "stdout",
     "output_type": "stream",
     "text": [
      "The Train Accuracy Percentage Is As Follows: \n",
      " 100.0 \n",
      "\n"
     ]
    }
   ],
   "source": [
    "Daccuracy = DTC.score(x_train, y_train)\n",
    "print(\"The Train Accuracy Percentage Is As Follows: \\n\",((Daccuracy)*100),\"\\n\")"
   ]
  },
  {
   "cell_type": "code",
   "execution_count": 33,
   "metadata": {},
   "outputs": [
    {
     "name": "stdout",
     "output_type": "stream",
     "text": [
      "The Train Accuracy Percentage Is As Follows: \n",
      " 94.23076923076923 \n",
      "\n"
     ]
    }
   ],
   "source": [
    "Saccuracy = SVM.score(x_train, y_train)\n",
    "print(\"The Train Accuracy Percentage Is As Follows: \\n\",((Saccuracy)*100),\"\\n\")"
   ]
  },
  {
   "cell_type": "code",
   "execution_count": 34,
   "metadata": {},
   "outputs": [],
   "source": [
    "LOtest = LOtrain.predict(x_test)\n",
    "Ktest = Ktrain.predict(x_test)\n",
    "Dtest = Dtrain.predict(x_test)\n",
    "Stest = Strain.predict(x_test)"
   ]
  },
  {
   "cell_type": "code",
   "execution_count": 35,
   "metadata": {},
   "outputs": [],
   "source": [
    "#PERFORMANCE CHECKING USING CONFUSION MATRIX\n",
    "from sklearn.metrics import accuracy_score\n",
    "from sklearn.metrics import confusion_matrix"
   ]
  },
  {
   "cell_type": "code",
   "execution_count": 36,
   "metadata": {},
   "outputs": [
    {
     "name": "stdout",
     "output_type": "stream",
     "text": [
      "The Actual Accuracy Percentage Is As Follows: \n",
      " 100.0 \n",
      "\n",
      "The Predicted Values Are As Follows: \n",
      " ['DISASTER' 'DISASTER' 'UNDEFINED' 'DISASTER' 'UNDEFINED' 'DISASTER'\n",
      " 'NO DISASTER' 'DISASTER' 'NO DISASTER' 'DISASTER' 'UNDEFINED' 'DISASTER'\n",
      " 'DISASTER' 'NO DISASTER'] \n",
      "\n",
      "The Confusion Matrix Is As Follows: \n",
      " [[8 0 0]\n",
      " [0 3 0]\n",
      " [0 0 3]] \n",
      "\n"
     ]
    }
   ],
   "source": [
    "LOaccuracy1 = LOR.score(x_test, y_test)\n",
    "print(\"The Actual Accuracy Percentage Is As Follows: \\n\",((LOaccuracy1)*100),\"\\n\")\n",
    "print(\"The Predicted Values Are As Follows: \\n\",(LOtest),\"\\n\")\n",
    "print(\"The Confusion Matrix Is As Follows: \\n\",confusion_matrix(LOtest, y_test),\"\\n\")"
   ]
  },
  {
   "cell_type": "code",
   "execution_count": 37,
   "metadata": {},
   "outputs": [
    {
     "name": "stdout",
     "output_type": "stream",
     "text": [
      "The Actual Accuracy Percentage Is As Follows: \n",
      " 100.0 \n",
      "\n",
      "The Predicted Values Are As Follows: \n",
      " ['DISASTER' 'DISASTER' 'UNDEFINED' 'DISASTER' 'UNDEFINED' 'DISASTER'\n",
      " 'NO DISASTER' 'DISASTER' 'NO DISASTER' 'DISASTER' 'UNDEFINED' 'DISASTER'\n",
      " 'DISASTER' 'NO DISASTER'] \n",
      "\n",
      "The Confusion Matrix Is As Follows: \n",
      " [[8 0 0]\n",
      " [0 3 0]\n",
      " [0 0 3]] \n",
      "\n"
     ]
    }
   ],
   "source": [
    "Kaccuracy1 = KNN.score(x_test, y_test)\n",
    "print(\"The Actual Accuracy Percentage Is As Follows: \\n\",((Kaccuracy1)*100),\"\\n\")\n",
    "print(\"The Predicted Values Are As Follows: \\n\",(Ktest),\"\\n\")\n",
    "print(\"The Confusion Matrix Is As Follows: \\n\",confusion_matrix(Ktest, y_test),\"\\n\")"
   ]
  },
  {
   "cell_type": "code",
   "execution_count": 38,
   "metadata": {},
   "outputs": [
    {
     "name": "stdout",
     "output_type": "stream",
     "text": [
      "The Actual Accuracy Percentage Is As Follows: \n",
      " 85.71428571428571 \n",
      "\n",
      "The Predicted Values Are As Follows: \n",
      " ['DISASTER' 'DISASTER' 'UNDEFINED' 'DISASTER' 'UNDEFINED' 'DISASTER'\n",
      " 'UNDEFINED' 'DISASTER' 'UNDEFINED' 'DISASTER' 'UNDEFINED' 'DISASTER'\n",
      " 'DISASTER' 'NO DISASTER'] \n",
      "\n",
      "The Confusion Matrix Is As Follows: \n",
      " [[8 0 0]\n",
      " [0 1 0]\n",
      " [0 2 3]] \n",
      "\n"
     ]
    }
   ],
   "source": [
    "Saccuracy1 = SVM.score(x_test, y_test)\n",
    "print(\"The Actual Accuracy Percentage Is As Follows: \\n\",((Saccuracy1)*100),\"\\n\")\n",
    "print(\"The Predicted Values Are As Follows: \\n\",(Stest),\"\\n\")\n",
    "print(\"The Confusion Matrix Is As Follows: \\n\",confusion_matrix(Stest, y_test),\"\\n\")"
   ]
  },
  {
   "cell_type": "code",
   "execution_count": 39,
   "metadata": {},
   "outputs": [
    {
     "name": "stdout",
     "output_type": "stream",
     "text": [
      "The Actual Accuracy Percentage Is As Follows: \n",
      " 100.0 \n",
      "\n",
      "The Predicted Values Are As Follows: \n",
      " ['DISASTER' 'DISASTER' 'UNDEFINED' 'DISASTER' 'UNDEFINED' 'DISASTER'\n",
      " 'NO DISASTER' 'DISASTER' 'NO DISASTER' 'DISASTER' 'UNDEFINED' 'DISASTER'\n",
      " 'DISASTER' 'NO DISASTER'] \n",
      "\n",
      "The Confusion Matrix Is As Follows: \n",
      " [[8 0 0]\n",
      " [0 3 0]\n",
      " [0 0 3]] \n",
      "\n"
     ]
    }
   ],
   "source": [
    "Daccuracy1 = DTC.score(x_test, y_test)\n",
    "print(\"The Actual Accuracy Percentage Is As Follows: \\n\",((Daccuracy1)*100),\"\\n\")\n",
    "print(\"The Predicted Values Are As Follows: \\n\",(Dtest),\"\\n\")\n",
    "print(\"The Confusion Matrix Is As Follows: \\n\",confusion_matrix(Dtest, y_test),\"\\n\")"
   ]
  },
  {
   "cell_type": "code",
   "execution_count": 40,
   "metadata": {},
   "outputs": [
    {
     "data": {
      "text/html": [
       "<div>\n",
       "<style scoped>\n",
       "    .dataframe tbody tr th:only-of-type {\n",
       "        vertical-align: middle;\n",
       "    }\n",
       "\n",
       "    .dataframe tbody tr th {\n",
       "        vertical-align: top;\n",
       "    }\n",
       "\n",
       "    .dataframe thead th {\n",
       "        text-align: right;\n",
       "    }\n",
       "</style>\n",
       "<table border=\"1\" class=\"dataframe\">\n",
       "  <thead>\n",
       "    <tr style=\"text-align: right;\">\n",
       "      <th></th>\n",
       "      <th>time</th>\n",
       "      <th>sensor1</th>\n",
       "      <th>sensor2</th>\n",
       "      <th>currentTendency</th>\n",
       "      <th>predictedTendency</th>\n",
       "    </tr>\n",
       "  </thead>\n",
       "  <tbody>\n",
       "    <tr>\n",
       "      <th>0</th>\n",
       "      <td>Wed Jun  1 15:30:21 2022</td>\n",
       "      <td>181.0</td>\n",
       "      <td>88.0</td>\n",
       "      <td>DISASTER</td>\n",
       "      <td>DISASTER</td>\n",
       "    </tr>\n",
       "    <tr>\n",
       "      <th>1</th>\n",
       "      <td>Wed Jun  1 15:30:25 2022</td>\n",
       "      <td>106.5</td>\n",
       "      <td>72.5</td>\n",
       "      <td>DISASTER</td>\n",
       "      <td>DISASTER</td>\n",
       "    </tr>\n",
       "    <tr>\n",
       "      <th>2</th>\n",
       "      <td>Wed Jun  1 15:30:30 2022</td>\n",
       "      <td>107.0</td>\n",
       "      <td>74.0</td>\n",
       "      <td>DISASTER</td>\n",
       "      <td>UNDEFINED</td>\n",
       "    </tr>\n",
       "    <tr>\n",
       "      <th>3</th>\n",
       "      <td>Wed Jun  1 15:30:35 2022</td>\n",
       "      <td>98.0</td>\n",
       "      <td>60.0</td>\n",
       "      <td>NO DISASTER</td>\n",
       "      <td>DISASTER</td>\n",
       "    </tr>\n",
       "    <tr>\n",
       "      <th>4</th>\n",
       "      <td>Wed Jun  1 15:30:40 2022</td>\n",
       "      <td>98.0</td>\n",
       "      <td>59.0</td>\n",
       "      <td>NO DISASTER</td>\n",
       "      <td>UNDEFINED</td>\n",
       "    </tr>\n",
       "    <tr>\n",
       "      <th>...</th>\n",
       "      <td>...</td>\n",
       "      <td>...</td>\n",
       "      <td>...</td>\n",
       "      <td>...</td>\n",
       "      <td>...</td>\n",
       "    </tr>\n",
       "    <tr>\n",
       "      <th>61</th>\n",
       "      <td>Wed Jun  1 15:35:35 2022</td>\n",
       "      <td>94.5</td>\n",
       "      <td>50.0</td>\n",
       "      <td>UNDEFINED</td>\n",
       "      <td>NaN</td>\n",
       "    </tr>\n",
       "    <tr>\n",
       "      <th>62</th>\n",
       "      <td>Wed Jun  1 15:35:40 2022</td>\n",
       "      <td>97.5</td>\n",
       "      <td>55.0</td>\n",
       "      <td>NO DISASTER</td>\n",
       "      <td>NaN</td>\n",
       "    </tr>\n",
       "    <tr>\n",
       "      <th>63</th>\n",
       "      <td>Wed Jun  1 15:35:45 2022</td>\n",
       "      <td>92.5</td>\n",
       "      <td>46.0</td>\n",
       "      <td>UNDEFINED</td>\n",
       "      <td>NaN</td>\n",
       "    </tr>\n",
       "    <tr>\n",
       "      <th>64</th>\n",
       "      <td>Wed Jun  1 15:35:50 2022</td>\n",
       "      <td>95.0</td>\n",
       "      <td>50.0</td>\n",
       "      <td>UNDEFINED</td>\n",
       "      <td>NaN</td>\n",
       "    </tr>\n",
       "    <tr>\n",
       "      <th>65</th>\n",
       "      <td>Wed Jun  1 15:35:55 2022</td>\n",
       "      <td>94.0</td>\n",
       "      <td>50.0</td>\n",
       "      <td>UNDEFINED</td>\n",
       "      <td>NaN</td>\n",
       "    </tr>\n",
       "  </tbody>\n",
       "</table>\n",
       "<p>66 rows × 5 columns</p>\n",
       "</div>"
      ],
      "text/plain": [
       "                        time  sensor1  sensor2 currentTendency  \\\n",
       "0   Wed Jun  1 15:30:21 2022    181.0     88.0        DISASTER   \n",
       "1   Wed Jun  1 15:30:25 2022    106.5     72.5        DISASTER   \n",
       "2   Wed Jun  1 15:30:30 2022    107.0     74.0        DISASTER   \n",
       "3   Wed Jun  1 15:30:35 2022     98.0     60.0     NO DISASTER   \n",
       "4   Wed Jun  1 15:30:40 2022     98.0     59.0     NO DISASTER   \n",
       "..                       ...      ...      ...             ...   \n",
       "61  Wed Jun  1 15:35:35 2022     94.5     50.0       UNDEFINED   \n",
       "62  Wed Jun  1 15:35:40 2022     97.5     55.0     NO DISASTER   \n",
       "63  Wed Jun  1 15:35:45 2022     92.5     46.0       UNDEFINED   \n",
       "64  Wed Jun  1 15:35:50 2022     95.0     50.0       UNDEFINED   \n",
       "65  Wed Jun  1 15:35:55 2022     94.0     50.0       UNDEFINED   \n",
       "\n",
       "   predictedTendency  \n",
       "0           DISASTER  \n",
       "1           DISASTER  \n",
       "2          UNDEFINED  \n",
       "3           DISASTER  \n",
       "4          UNDEFINED  \n",
       "..               ...  \n",
       "61               NaN  \n",
       "62               NaN  \n",
       "63               NaN  \n",
       "64               NaN  \n",
       "65               NaN  \n",
       "\n",
       "[66 rows x 5 columns]"
      ]
     },
     "execution_count": 40,
     "metadata": {},
     "output_type": "execute_result"
    }
   ],
   "source": [
    "data['predictedTendency'] = pd.Series(Dtest)\n",
    "data"
   ]
  },
  {
   "cell_type": "code",
   "execution_count": 41,
   "metadata": {},
   "outputs": [
    {
     "name": "stdout",
     "output_type": "stream",
     "text": [
      "Connecting to wss://anvil.works/uplink\n",
      "Anvil websocket open\n",
      "Connected to \"Default environment\" as SERVER\n"
     ]
    }
   ],
   "source": [
    "import anvil.server\n",
    "from anvil.tables import app_tables\n",
    "anvil.server.connect(\"FLI3Y75UB765HODRCBRJGR76-S7AC6ZKYCFUSQZUH\")"
   ]
  },
  {
   "cell_type": "code",
   "execution_count": null,
   "metadata": {},
   "outputs": [],
   "source": [
    "for i, row in data.iterrows():\n",
    "    #while i<len(data)\n",
    "    app_tables.monitor.add_row(time=row['time'],\n",
    "                               sensor1=row['sensor1'],\n",
    "                               sensor2=row['sensor2'],\n",
    "                               currentTendency=row['currentTendency'],\n",
    "                               predictedTendency=row['predictedTendency'])"
   ]
  }
 ],
 "metadata": {
  "kernelspec": {
   "display_name": "Python 3.9.12 ('base')",
   "language": "python",
   "name": "python3"
  },
  "language_info": {
   "codemirror_mode": {
    "name": "ipython",
    "version": 3
   },
   "file_extension": ".py",
   "mimetype": "text/x-python",
   "name": "python",
   "nbconvert_exporter": "python",
   "pygments_lexer": "ipython3",
   "version": "3.9.12"
  },
  "vscode": {
   "interpreter": {
    "hash": "341c91f620ea38e5dbaff5228b7824f1f11268bb499174d0747756fa862b7983"
   }
  }
 },
 "nbformat": 4,
 "nbformat_minor": 4
}
